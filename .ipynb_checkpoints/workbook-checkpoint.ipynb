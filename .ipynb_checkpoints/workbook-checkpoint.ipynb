{
 "cells": [
  {
   "cell_type": "markdown",
   "id": "9d236e3b",
   "metadata": {},
   "source": [
    "# Web Scrapping"
   ]
  },
  {
   "cell_type": "code",
   "execution_count": 85,
   "id": "7f7b7285",
   "metadata": {},
   "outputs": [],
   "source": [
    "\n",
    "from bs4 import BeautifulSoup\n",
    "import requests\n",
    "\n",
    "\n",
    "r = requests.get(\"http://tikili.az/elan-search.php?dil=az&realtor=0&emlak_type=menzil&elan_type=satish&region=no_select&location=no_select&metro=0&oda_sayi=0&min_sahe=0&max_sahe=0&invertar=0&min_price=0&max_price=0&user-type=no_select&searchmod=3\")\n",
    "soup = BeautifulSoup(r.content, \"lxml\")\n",
    "\n",
    "houses = soup.find_all(\"li\", {\"class\": \"position-relativec\"})\n",
    "\n",
    "headers = []\n",
    "values = []\n",
    "\n",
    "for house in houses:\n",
    "    house_link = house.find_all(\"a\")\n",
    "    link_basi = \"http://tikili.az/\"\n",
    "\n",
    "    for link in house_link:\n",
    "        link_all = link_basi+link.get(\"href\")\n",
    "\n",
    "        # print(link_all)\n",
    "\n",
    "        detail = requests.get(link_all)\n",
    "        # print(detail.status_code)\n",
    "\n",
    "        detail_soup = BeautifulSoup(detail.content, \"lxml\")\n",
    "\n",
    "        parameters = detail_soup.find_all(\"table\", {\"class\": \"elan-params-1\"})\n",
    "\n",
    "        for detail in parameters:\n",
    "            tr = detail.find_all(\"tr\")\n",
    "\n",
    "            for i in tr:\n",
    "                headers.append(i.find_all(\"td\")[0].text)\n",
    "\n",
    "            for k in tr:\n",
    "                values.append(k.find_all(\"td\")[1].text)\n",
    "\n",
    "\n",
    "headers = list(dict.fromkeys(headers))\n",
    "headers = headers[0:16]\n"
   ]
  },
  {
   "cell_type": "code",
   "execution_count": 86,
   "id": "859145fc",
   "metadata": {},
   "outputs": [
    {
     "data": {
      "text/html": [
       "<div>\n",
       "<style scoped>\n",
       "    .dataframe tbody tr th:only-of-type {\n",
       "        vertical-align: middle;\n",
       "    }\n",
       "\n",
       "    .dataframe tbody tr th {\n",
       "        vertical-align: top;\n",
       "    }\n",
       "\n",
       "    .dataframe thead th {\n",
       "        text-align: right;\n",
       "    }\n",
       "</style>\n",
       "<table border=\"1\" class=\"dataframe\">\n",
       "  <thead>\n",
       "    <tr style=\"text-align: right;\">\n",
       "      <th></th>\n",
       "      <th>Elan növü:</th>\n",
       "      <th>Sahəsi:</th>\n",
       "      <th>Təmiri:</th>\n",
       "      <th>Mərtəbəsi:</th>\n",
       "      <th>Otaq sayı:</th>\n",
       "      <th>Binada qaz:</th>\n",
       "      <th>Sənədi:</th>\n",
       "      <th>Qiyməti AZN-lə:</th>\n",
       "      <th>Rayon:</th>\n",
       "    </tr>\n",
       "  </thead>\n",
       "  <tbody>\n",
       "    <tr>\n",
       "      <th>0</th>\n",
       "      <td>Yeni bina</td>\n",
       "      <td>93 m2</td>\n",
       "      <td>Super təmir</td>\n",
       "      <td>14 / 3</td>\n",
       "      <td>3</td>\n",
       "      <td>Var</td>\n",
       "      <td>Çıxarış(kupça)</td>\n",
       "      <td>210 000</td>\n",
       "      <td>Nəsimi r.</td>\n",
       "    </tr>\n",
       "    <tr>\n",
       "      <th>1</th>\n",
       "      <td>Yeni bina</td>\n",
       "      <td>98 m2</td>\n",
       "      <td>Yaxşı təmir</td>\n",
       "      <td>16 / 3</td>\n",
       "      <td>3</td>\n",
       "      <td>Var</td>\n",
       "      <td>Çıxarış(kupça)</td>\n",
       "      <td>167 000</td>\n",
       "      <td>Nəsimi r.</td>\n",
       "    </tr>\n",
       "    <tr>\n",
       "      <th>2</th>\n",
       "      <td>Yeni bina</td>\n",
       "      <td>180 m2</td>\n",
       "      <td>Yaxşı təmir</td>\n",
       "      <td>16 / 13</td>\n",
       "      <td>4</td>\n",
       "      <td>Var</td>\n",
       "      <td>Çıxarış(kupça)</td>\n",
       "      <td>310 000</td>\n",
       "      <td>Nəsimi r.</td>\n",
       "    </tr>\n",
       "    <tr>\n",
       "      <th>3</th>\n",
       "      <td>Yeni bina</td>\n",
       "      <td>90 m2</td>\n",
       "      <td>Təmirsiz</td>\n",
       "      <td>16 / 3</td>\n",
       "      <td>3</td>\n",
       "      <td>Var</td>\n",
       "      <td>Müqavilə</td>\n",
       "      <td>160 000</td>\n",
       "      <td>Nəsimi r.</td>\n",
       "    </tr>\n",
       "    <tr>\n",
       "      <th>4</th>\n",
       "      <td>Yeni bina</td>\n",
       "      <td>49 m2</td>\n",
       "      <td>Super təmir</td>\n",
       "      <td>16 / 6</td>\n",
       "      <td>2</td>\n",
       "      <td>Var</td>\n",
       "      <td>Müqavilə</td>\n",
       "      <td>50 000</td>\n",
       "      <td>Yasamal r.</td>\n",
       "    </tr>\n",
       "    <tr>\n",
       "      <th>...</th>\n",
       "      <td>...</td>\n",
       "      <td>...</td>\n",
       "      <td>...</td>\n",
       "      <td>...</td>\n",
       "      <td>...</td>\n",
       "      <td>...</td>\n",
       "      <td>...</td>\n",
       "      <td>...</td>\n",
       "      <td>...</td>\n",
       "    </tr>\n",
       "    <tr>\n",
       "      <th>59</th>\n",
       "      <td>Köhnə bina</td>\n",
       "      <td>87 m2</td>\n",
       "      <td>Yaxşı təmir</td>\n",
       "      <td>5 / 1</td>\n",
       "      <td>3</td>\n",
       "      <td>Birlikdə</td>\n",
       "      <td>Çıxarış(kupça)</td>\n",
       "      <td>103 000</td>\n",
       "      <td>Nərimanov r.</td>\n",
       "    </tr>\n",
       "    <tr>\n",
       "      <th>60</th>\n",
       "      <td>Yeni bina</td>\n",
       "      <td>172 m2</td>\n",
       "      <td>Suvaqla</td>\n",
       "      <td>18 / 6</td>\n",
       "      <td>3</td>\n",
       "      <td>Yoxdur</td>\n",
       "      <td>Müqavilə</td>\n",
       "      <td>258 000</td>\n",
       "      <td>Nəsimi r.</td>\n",
       "    </tr>\n",
       "    <tr>\n",
       "      <th>61</th>\n",
       "      <td>Yeni bina</td>\n",
       "      <td>158 m2</td>\n",
       "      <td>Orta təmir</td>\n",
       "      <td>16 / 8</td>\n",
       "      <td>3</td>\n",
       "      <td>Var</td>\n",
       "      <td>Çıxarış(kupça)</td>\n",
       "      <td>240 000</td>\n",
       "      <td>Nəsimi r.</td>\n",
       "    </tr>\n",
       "    <tr>\n",
       "      <th>62</th>\n",
       "      <td>Köhnə bina</td>\n",
       "      <td>42 m2</td>\n",
       "      <td>Yaxşı təmir</td>\n",
       "      <td>1 / 1</td>\n",
       "      <td>2</td>\n",
       "      <td>Birlikdə</td>\n",
       "      <td>Çıxarış(kupça)</td>\n",
       "      <td>50 000</td>\n",
       "      <td>Nəsimi r.</td>\n",
       "    </tr>\n",
       "    <tr>\n",
       "      <th>63</th>\n",
       "      <td>Yeni bina</td>\n",
       "      <td>124 m2</td>\n",
       "      <td>Super təmir</td>\n",
       "      <td>12 / 11</td>\n",
       "      <td>3</td>\n",
       "      <td>Var</td>\n",
       "      <td>Müqavilə</td>\n",
       "      <td>160 000</td>\n",
       "      <td>Yasamal r.</td>\n",
       "    </tr>\n",
       "  </tbody>\n",
       "</table>\n",
       "<p>64 rows × 9 columns</p>\n",
       "</div>"
      ],
      "text/plain": [
       "    Elan növü: Sahəsi:      Təmiri: Mərtəbəsi: Otaq sayı: Binada qaz:  \\\n",
       "0    Yeni bina   93 m2  Super təmir     14 / 3          3         Var   \n",
       "1    Yeni bina   98 m2  Yaxşı təmir     16 / 3          3         Var   \n",
       "2    Yeni bina  180 m2  Yaxşı təmir    16 / 13          4         Var   \n",
       "3    Yeni bina   90 m2     Təmirsiz     16 / 3          3         Var   \n",
       "4    Yeni bina   49 m2  Super təmir     16 / 6          2         Var   \n",
       "..         ...     ...          ...        ...        ...         ...   \n",
       "59  Köhnə bina   87 m2  Yaxşı təmir      5 / 1          3    Birlikdə   \n",
       "60   Yeni bina  172 m2      Suvaqla     18 / 6          3      Yoxdur   \n",
       "61   Yeni bina  158 m2   Orta təmir     16 / 8          3         Var   \n",
       "62  Köhnə bina   42 m2  Yaxşı təmir      1 / 1          2    Birlikdə   \n",
       "63   Yeni bina  124 m2  Super təmir    12 / 11          3         Var   \n",
       "\n",
       "           Sənədi: Qiyməti AZN-lə:        Rayon:  \n",
       "0   Çıxarış(kupça)        210 000      Nəsimi r.  \n",
       "1   Çıxarış(kupça)        167 000      Nəsimi r.  \n",
       "2   Çıxarış(kupça)        310 000      Nəsimi r.  \n",
       "3         Müqavilə        160 000      Nəsimi r.  \n",
       "4         Müqavilə         50 000     Yasamal r.  \n",
       "..             ...             ...           ...  \n",
       "59  Çıxarış(kupça)        103 000   Nərimanov r.  \n",
       "60        Müqavilə        258 000      Nəsimi r.  \n",
       "61  Çıxarış(kupça)        240 000      Nəsimi r.  \n",
       "62  Çıxarış(kupça)         50 000      Nəsimi r.  \n",
       "63        Müqavilə        160 000     Yasamal r.  \n",
       "\n",
       "[64 rows x 9 columns]"
      ]
     },
     "execution_count": 86,
     "metadata": {},
     "output_type": "execute_result"
    }
   ],
   "source": [
    "import pandas as pd\n",
    "rows = [values[i:i + len(headers)]\n",
    "        for i in range(0, len(values), len(headers))]\n",
    "\n",
    "df = pd.DataFrame(data=rows, columns=headers)\n",
    "\n",
    "df = df.drop([\"Elan nömrəsi:\",\"Yerləşdirilib:\",\"MTK:\",\"Yerləşdiyi ərazi:\",\"Ünvan:\",\"Yaxınlıqdakı metro:\",\"Qiyməti $-la:\"],axis=1)\n",
    "\n",
    "df"
   ]
  },
  {
   "cell_type": "markdown",
   "id": "dbe24612",
   "metadata": {},
   "source": [
    "# Data Processing"
   ]
  },
  {
   "cell_type": "code",
   "execution_count": 87,
   "id": "6a680cc8",
   "metadata": {},
   "outputs": [],
   "source": [
    "df.rename(columns={'Elan növü:': 'Bina_novu',\n",
    "                   'Sahəsi:': 'Sahesi',\n",
    "                    'Təmiri:':'Temiri',\n",
    "                   'Mərtəbəsi:' : 'Mertebesi',\n",
    "                   'Otaq sayı:' : 'Otag_sayi',\n",
    "                   'Binada qaz:' : 'Binada_gaz',\n",
    "                   'Sənədi:' : 'Senedi',\n",
    "                   'Qiyməti AZN-lə:' : 'Qiymeti(AZN)',\n",
    "                   'Rayon:' : 'Rayon'                 \n",
    "                  },\n",
    "          inplace=True, errors='raise')\n",
    "\n"
   ]
  },
  {
   "cell_type": "code",
   "execution_count": 88,
   "id": "a2432d89",
   "metadata": {},
   "outputs": [],
   "source": [
    "#create new column\n",
    "df[\"Bina_mertebe_sayi \"] = df[\"Mertebesi\"].apply(lambda x: x.split(\" /\")[0])"
   ]
  },
  {
   "cell_type": "code",
   "execution_count": 89,
   "id": "d53ada4d",
   "metadata": {},
   "outputs": [],
   "source": [
    "df[\"Sahesi\"] = df[\"Sahesi\"].apply(lambda x:x.replace(\"m2\" , \"\"))\n",
    "df[\"Mertebesi\"] = df[\"Mertebesi\"].apply(lambda x: x[-1])\n",
    "\n"
   ]
  },
  {
   "cell_type": "code",
   "execution_count": 90,
   "id": "02063f1d",
   "metadata": {},
   "outputs": [
    {
     "name": "stderr",
     "output_type": "stream",
     "text": [
      "C:\\Users\\EYYUBM~1\\AppData\\Local\\Temp/ipykernel_3500/4180421914.py:1: FutureWarning: The default value of regex will change from True to False in a future version. In addition, single character regular expressions will *not* be treated as literal strings when regex=True.\n",
      "  df.columns = (df.columns.str.strip().str.upper()\n"
     ]
    }
   ],
   "source": [
    "#standardize column names\n",
    "df.columns = (df.columns.str.strip().str.upper()\n",
    "              .str.replace(' ', '_')\n",
    "              .str.replace('(', '')\n",
    "              .str.replace(')', ''))"
   ]
  },
  {
   "cell_type": "code",
   "execution_count": 91,
   "id": "e8b9cc56",
   "metadata": {},
   "outputs": [],
   "source": [
    "columns = ['BINA_NOVU', 'SAHESI', 'TEMIRI', 'MERTEBESI',  'BINA_MERTEBE_SAYI','OTAG_SAYI', 'BINADA_GAZ',\n",
    "       'SENEDI', 'RAYON','QIYMETIAZN']\n",
    "\n",
    "df = df.reindex(columns = columns)\n"
   ]
  },
  {
   "cell_type": "code",
   "execution_count": 92,
   "id": "8f64b164",
   "metadata": {},
   "outputs": [],
   "source": [
    "df[\"QIYMETIAZN\"] = df[\"QIYMETIAZN\"].apply(lambda x:x.replace(\" \", \"\"))"
   ]
  },
  {
   "cell_type": "code",
   "execution_count": 93,
   "id": "c6967e19",
   "metadata": {},
   "outputs": [],
   "source": [
    "# change column's types\n",
    "\n",
    "df[\"SAHESI\"] = df[\"SAHESI\"].astype(\"float\")\n",
    "df[\"MERTEBESI\"] = df[\"MERTEBESI\"].astype(\"float\")\n",
    "df[\"BINA_MERTEBE_SAYI\"] = df[\"BINA_MERTEBE_SAYI\"].astype(\"float\")\n",
    "df[\"OTAG_SAYI\"] = df[\"OTAG_SAYI\"].astype(\"float\")\n",
    "df[\"QIYMETIAZN\"] = df[\"QIYMETIAZN\"].astype(\"float\")"
   ]
  },
  {
   "cell_type": "markdown",
   "id": "02552185",
   "metadata": {},
   "source": [
    "### Label Encoding"
   ]
  },
  {
   "cell_type": "code",
   "execution_count": 112,
   "id": "761ce83a",
   "metadata": {},
   "outputs": [
    {
     "data": {
      "text/html": [
       "<div>\n",
       "<style scoped>\n",
       "    .dataframe tbody tr th:only-of-type {\n",
       "        vertical-align: middle;\n",
       "    }\n",
       "\n",
       "    .dataframe tbody tr th {\n",
       "        vertical-align: top;\n",
       "    }\n",
       "\n",
       "    .dataframe thead th {\n",
       "        text-align: right;\n",
       "    }\n",
       "</style>\n",
       "<table border=\"1\" class=\"dataframe\">\n",
       "  <thead>\n",
       "    <tr style=\"text-align: right;\">\n",
       "      <th></th>\n",
       "      <th>BINA_NOVU</th>\n",
       "      <th>SAHESI</th>\n",
       "      <th>TEMIRI</th>\n",
       "      <th>MERTEBESI</th>\n",
       "      <th>BINA_MERTEBE_SAYI</th>\n",
       "      <th>OTAG_SAYI</th>\n",
       "      <th>BINADA_GAZ</th>\n",
       "      <th>SENEDI</th>\n",
       "      <th>RAYON</th>\n",
       "      <th>QIYMETIAZN</th>\n",
       "    </tr>\n",
       "  </thead>\n",
       "  <tbody>\n",
       "    <tr>\n",
       "      <th>0</th>\n",
       "      <td>Yeni bina</td>\n",
       "      <td>93.0</td>\n",
       "      <td>Super təmir</td>\n",
       "      <td>3.0</td>\n",
       "      <td>14.0</td>\n",
       "      <td>3.0</td>\n",
       "      <td>Var</td>\n",
       "      <td>Çıxarış(kupça)</td>\n",
       "      <td>Nəsimi r.</td>\n",
       "      <td>210000.0</td>\n",
       "    </tr>\n",
       "    <tr>\n",
       "      <th>1</th>\n",
       "      <td>Yeni bina</td>\n",
       "      <td>98.0</td>\n",
       "      <td>Yaxşı təmir</td>\n",
       "      <td>3.0</td>\n",
       "      <td>16.0</td>\n",
       "      <td>3.0</td>\n",
       "      <td>Var</td>\n",
       "      <td>Çıxarış(kupça)</td>\n",
       "      <td>Nəsimi r.</td>\n",
       "      <td>167000.0</td>\n",
       "    </tr>\n",
       "    <tr>\n",
       "      <th>2</th>\n",
       "      <td>Yeni bina</td>\n",
       "      <td>180.0</td>\n",
       "      <td>Yaxşı təmir</td>\n",
       "      <td>3.0</td>\n",
       "      <td>16.0</td>\n",
       "      <td>4.0</td>\n",
       "      <td>Var</td>\n",
       "      <td>Çıxarış(kupça)</td>\n",
       "      <td>Nəsimi r.</td>\n",
       "      <td>310000.0</td>\n",
       "    </tr>\n",
       "    <tr>\n",
       "      <th>3</th>\n",
       "      <td>Yeni bina</td>\n",
       "      <td>90.0</td>\n",
       "      <td>Təmirsiz</td>\n",
       "      <td>3.0</td>\n",
       "      <td>16.0</td>\n",
       "      <td>3.0</td>\n",
       "      <td>Var</td>\n",
       "      <td>Müqavilə</td>\n",
       "      <td>Nəsimi r.</td>\n",
       "      <td>160000.0</td>\n",
       "    </tr>\n",
       "    <tr>\n",
       "      <th>4</th>\n",
       "      <td>Yeni bina</td>\n",
       "      <td>49.0</td>\n",
       "      <td>Super təmir</td>\n",
       "      <td>6.0</td>\n",
       "      <td>16.0</td>\n",
       "      <td>2.0</td>\n",
       "      <td>Var</td>\n",
       "      <td>Müqavilə</td>\n",
       "      <td>Yasamal r.</td>\n",
       "      <td>50000.0</td>\n",
       "    </tr>\n",
       "    <tr>\n",
       "      <th>...</th>\n",
       "      <td>...</td>\n",
       "      <td>...</td>\n",
       "      <td>...</td>\n",
       "      <td>...</td>\n",
       "      <td>...</td>\n",
       "      <td>...</td>\n",
       "      <td>...</td>\n",
       "      <td>...</td>\n",
       "      <td>...</td>\n",
       "      <td>...</td>\n",
       "    </tr>\n",
       "    <tr>\n",
       "      <th>59</th>\n",
       "      <td>Köhnə bina</td>\n",
       "      <td>87.0</td>\n",
       "      <td>Yaxşı təmir</td>\n",
       "      <td>1.0</td>\n",
       "      <td>5.0</td>\n",
       "      <td>3.0</td>\n",
       "      <td>Birlikdə</td>\n",
       "      <td>Çıxarış(kupça)</td>\n",
       "      <td>Nərimanov r.</td>\n",
       "      <td>103000.0</td>\n",
       "    </tr>\n",
       "    <tr>\n",
       "      <th>60</th>\n",
       "      <td>Yeni bina</td>\n",
       "      <td>172.0</td>\n",
       "      <td>Suvaqla</td>\n",
       "      <td>6.0</td>\n",
       "      <td>18.0</td>\n",
       "      <td>3.0</td>\n",
       "      <td>Yoxdur</td>\n",
       "      <td>Müqavilə</td>\n",
       "      <td>Nəsimi r.</td>\n",
       "      <td>258000.0</td>\n",
       "    </tr>\n",
       "    <tr>\n",
       "      <th>61</th>\n",
       "      <td>Yeni bina</td>\n",
       "      <td>158.0</td>\n",
       "      <td>Orta təmir</td>\n",
       "      <td>8.0</td>\n",
       "      <td>16.0</td>\n",
       "      <td>3.0</td>\n",
       "      <td>Var</td>\n",
       "      <td>Çıxarış(kupça)</td>\n",
       "      <td>Nəsimi r.</td>\n",
       "      <td>240000.0</td>\n",
       "    </tr>\n",
       "    <tr>\n",
       "      <th>62</th>\n",
       "      <td>Köhnə bina</td>\n",
       "      <td>42.0</td>\n",
       "      <td>Yaxşı təmir</td>\n",
       "      <td>1.0</td>\n",
       "      <td>1.0</td>\n",
       "      <td>2.0</td>\n",
       "      <td>Birlikdə</td>\n",
       "      <td>Çıxarış(kupça)</td>\n",
       "      <td>Nəsimi r.</td>\n",
       "      <td>50000.0</td>\n",
       "    </tr>\n",
       "    <tr>\n",
       "      <th>63</th>\n",
       "      <td>Yeni bina</td>\n",
       "      <td>124.0</td>\n",
       "      <td>Super təmir</td>\n",
       "      <td>1.0</td>\n",
       "      <td>12.0</td>\n",
       "      <td>3.0</td>\n",
       "      <td>Var</td>\n",
       "      <td>Müqavilə</td>\n",
       "      <td>Yasamal r.</td>\n",
       "      <td>160000.0</td>\n",
       "    </tr>\n",
       "  </tbody>\n",
       "</table>\n",
       "<p>64 rows × 10 columns</p>\n",
       "</div>"
      ],
      "text/plain": [
       "     BINA_NOVU  SAHESI       TEMIRI  MERTEBESI  BINA_MERTEBE_SAYI  OTAG_SAYI  \\\n",
       "0    Yeni bina    93.0  Super təmir        3.0               14.0        3.0   \n",
       "1    Yeni bina    98.0  Yaxşı təmir        3.0               16.0        3.0   \n",
       "2    Yeni bina   180.0  Yaxşı təmir        3.0               16.0        4.0   \n",
       "3    Yeni bina    90.0     Təmirsiz        3.0               16.0        3.0   \n",
       "4    Yeni bina    49.0  Super təmir        6.0               16.0        2.0   \n",
       "..         ...     ...          ...        ...                ...        ...   \n",
       "59  Köhnə bina    87.0  Yaxşı təmir        1.0                5.0        3.0   \n",
       "60   Yeni bina   172.0      Suvaqla        6.0               18.0        3.0   \n",
       "61   Yeni bina   158.0   Orta təmir        8.0               16.0        3.0   \n",
       "62  Köhnə bina    42.0  Yaxşı təmir        1.0                1.0        2.0   \n",
       "63   Yeni bina   124.0  Super təmir        1.0               12.0        3.0   \n",
       "\n",
       "   BINADA_GAZ          SENEDI         RAYON  QIYMETIAZN  \n",
       "0         Var  Çıxarış(kupça)     Nəsimi r.    210000.0  \n",
       "1         Var  Çıxarış(kupça)     Nəsimi r.    167000.0  \n",
       "2         Var  Çıxarış(kupça)     Nəsimi r.    310000.0  \n",
       "3         Var        Müqavilə     Nəsimi r.    160000.0  \n",
       "4         Var        Müqavilə    Yasamal r.     50000.0  \n",
       "..        ...             ...           ...         ...  \n",
       "59   Birlikdə  Çıxarış(kupça)  Nərimanov r.    103000.0  \n",
       "60     Yoxdur        Müqavilə     Nəsimi r.    258000.0  \n",
       "61        Var  Çıxarış(kupça)     Nəsimi r.    240000.0  \n",
       "62   Birlikdə  Çıxarış(kupça)     Nəsimi r.     50000.0  \n",
       "63        Var        Müqavilə    Yasamal r.    160000.0  \n",
       "\n",
       "[64 rows x 10 columns]"
      ]
     },
     "execution_count": 112,
     "metadata": {},
     "output_type": "execute_result"
    }
   ],
   "source": [
    "\n",
    "data = df.copy()\n",
    "data\n"
   ]
  },
  {
   "cell_type": "code",
   "execution_count": 95,
   "id": "7e018627",
   "metadata": {},
   "outputs": [],
   "source": [
    "from sklearn.preprocessing import LabelEncoder\n",
    "encoder = LabelEncoder()"
   ]
  },
  {
   "cell_type": "code",
   "execution_count": 96,
   "id": "2773817b",
   "metadata": {},
   "outputs": [
    {
     "data": {
      "text/plain": [
       "array(['Köhnə bina', 'Yeni bina'], dtype=object)"
      ]
     },
     "execution_count": 96,
     "metadata": {},
     "output_type": "execute_result"
    }
   ],
   "source": [
    "data[\"BINA_NOVU\"] = encoder.fit_transform(data[\"BINA_NOVU\"])\n",
    "encoder.classes_\n",
    "\n",
    "# Kohne Bina : 0 \n",
    "# Yeni Bina : 1"
   ]
  },
  {
   "cell_type": "code",
   "execution_count": 97,
   "id": "82faba31",
   "metadata": {},
   "outputs": [
    {
     "data": {
      "text/plain": [
       "array(['Orta təmir', 'Super təmir', 'Suvaqla', 'Təmirsiz', 'Yaxşı təmir'],\n",
       "      dtype=object)"
      ]
     },
     "execution_count": 97,
     "metadata": {},
     "output_type": "execute_result"
    }
   ],
   "source": [
    "data[\"TEMIRI\"] = encoder.fit_transform(data[\"TEMIRI\"])\n",
    "encoder.classes_\n",
    "\n",
    "# Orta təmir : 0\n",
    "# Super təmir : 1 \n",
    "# Suvaqla : 2 \n",
    "# Təmirsiz : 3\n",
    "# Yaxşı təmir : 4\n"
   ]
  },
  {
   "cell_type": "code",
   "execution_count": 98,
   "id": "67907907",
   "metadata": {},
   "outputs": [
    {
     "data": {
      "text/plain": [
       "array(['Ayrı-ayrı', 'Birlikdə', 'Var', 'Yoxdur'], dtype=object)"
      ]
     },
     "execution_count": 98,
     "metadata": {},
     "output_type": "execute_result"
    }
   ],
   "source": [
    "data[\"BINADA_GAZ\"] = encoder.fit_transform(data[\"BINADA_GAZ\"])\n",
    "encoder.classes_\n",
    "\n",
    "# Ayrı-ayrı : 0\n",
    "# Birlikdə: 1\n",
    "# Var : 2\n",
    "# Yoxdur : 3"
   ]
  },
  {
   "cell_type": "code",
   "execution_count": 99,
   "id": "4e858004",
   "metadata": {},
   "outputs": [
    {
     "data": {
      "text/plain": [
       "array(['Müqavilə', 'Çıxarış(kupça)'], dtype=object)"
      ]
     },
     "execution_count": 99,
     "metadata": {},
     "output_type": "execute_result"
    }
   ],
   "source": [
    "data[\"SENEDI\"] = encoder.fit_transform(data[\"SENEDI\"])\n",
    "encoder.classes_\n",
    "\n",
    "# Müqavilə : 0\n",
    "# Çıxarış(kupça) :1"
   ]
  },
  {
   "cell_type": "code",
   "execution_count": 100,
   "id": "1324ac01",
   "metadata": {},
   "outputs": [
    {
     "data": {
      "text/plain": [
       "array(['Abşeron r.', 'Binəqədi r.', 'Nizami r.', 'Nərimanov r.',\n",
       "       'Nəsimi r.', 'Xətai r.', 'Xəzər r.', 'Yasamal r.'], dtype=object)"
      ]
     },
     "execution_count": 100,
     "metadata": {},
     "output_type": "execute_result"
    }
   ],
   "source": [
    "data[\"RAYON\"] = encoder.fit_transform(data[\"RAYON\"])\n",
    "encoder.classes_\n",
    "\n",
    "# Abşeron r. : 0 \n",
    "# Binəqədi r. : 1\n",
    "# Nərimanov r. : 2\n",
    "# Nəsimi r. : 3\n",
    "# Xətai r. : 4\n",
    "# Xəzər r. : 5\n",
    "# Yasamal r. : 6"
   ]
  },
  {
   "cell_type": "markdown",
   "id": "943a0bc1",
   "metadata": {},
   "source": [
    "### Outliers"
   ]
  },
  {
   "cell_type": "code",
   "execution_count": 101,
   "id": "353a9167",
   "metadata": {},
   "outputs": [
    {
     "data": {
      "image/png": "[encoded data removed]",
      "text/plain": [
       "<Figure size 432x288 with 1 Axes>"
      ]
     },
     "metadata": {
      "needs_background": "light"
     },
     "output_type": "display_data"
    }
   ],
   "source": [
    "# Import matplotlib\n",
    "import matplotlib.pyplot as plt\n",
    "\n",
    "\n",
    "plt.boxplot(data[\"QIYMETIAZN\"])\n",
    "plt.show()"
   ]
  },
  {
   "cell_type": "code",
   "execution_count": 102,
   "id": "5c318e4b",
   "metadata": {},
   "outputs": [
    {
     "data": {
      "text/plain": [
       "(64, 10)"
      ]
     },
     "execution_count": 102,
     "metadata": {},
     "output_type": "execute_result"
    }
   ],
   "source": [
    "\n",
    "Q1 = data[\"QIYMETIAZN\"].quantile(0.25)\n",
    "Q3 = data[\"QIYMETIAZN\"].quantile(0.75)\n",
    "IQR = Q3 - Q1\n",
    "\n",
    "data.shape"
   ]
  },
  {
   "cell_type": "code",
   "execution_count": 103,
   "id": "91d773f0",
   "metadata": {},
   "outputs": [
    {
     "data": {
      "text/plain": [
       "(62, 10)"
      ]
     },
     "execution_count": 103,
     "metadata": {},
     "output_type": "execute_result"
    }
   ],
   "source": [
    "data = data[~pd.DataFrame(((data[\"QIYMETIAZN\"] < (Q1 - 1.5 * IQR)) |(data[\"QIYMETIAZN\"] > (Q3 + 1.5 * IQR)))).any(axis=1)]\n",
    "data.shape"
   ]
  },
  {
   "cell_type": "markdown",
   "id": "418704bd",
   "metadata": {},
   "source": [
    "# ML Model"
   ]
  },
  {
   "cell_type": "code",
   "execution_count": 104,
   "id": "3b2ba023",
   "metadata": {},
   "outputs": [
    {
     "data": {
      "text/html": [
       "<div>\n",
       "<style scoped>\n",
       "    .dataframe tbody tr th:only-of-type {\n",
       "        vertical-align: middle;\n",
       "    }\n",
       "\n",
       "    .dataframe tbody tr th {\n",
       "        vertical-align: top;\n",
       "    }\n",
       "\n",
       "    .dataframe thead th {\n",
       "        text-align: right;\n",
       "    }\n",
       "</style>\n",
       "<table border=\"1\" class=\"dataframe\">\n",
       "  <thead>\n",
       "    <tr style=\"text-align: right;\">\n",
       "      <th></th>\n",
       "      <th>BINA_NOVU</th>\n",
       "      <th>SAHESI</th>\n",
       "      <th>TEMIRI</th>\n",
       "      <th>MERTEBESI</th>\n",
       "      <th>BINA_MERTEBE_SAYI</th>\n",
       "      <th>OTAG_SAYI</th>\n",
       "      <th>BINADA_GAZ</th>\n",
       "      <th>SENEDI</th>\n",
       "      <th>RAYON</th>\n",
       "      <th>QIYMETIAZN</th>\n",
       "    </tr>\n",
       "  </thead>\n",
       "  <tbody>\n",
       "    <tr>\n",
       "      <th>0</th>\n",
       "      <td>1</td>\n",
       "      <td>93.0</td>\n",
       "      <td>1</td>\n",
       "      <td>3.0</td>\n",
       "      <td>14.0</td>\n",
       "      <td>3.0</td>\n",
       "      <td>2</td>\n",
       "      <td>1</td>\n",
       "      <td>4</td>\n",
       "      <td>210000.0</td>\n",
       "    </tr>\n",
       "    <tr>\n",
       "      <th>1</th>\n",
       "      <td>1</td>\n",
       "      <td>98.0</td>\n",
       "      <td>4</td>\n",
       "      <td>3.0</td>\n",
       "      <td>16.0</td>\n",
       "      <td>3.0</td>\n",
       "      <td>2</td>\n",
       "      <td>1</td>\n",
       "      <td>4</td>\n",
       "      <td>167000.0</td>\n",
       "    </tr>\n",
       "    <tr>\n",
       "      <th>2</th>\n",
       "      <td>1</td>\n",
       "      <td>180.0</td>\n",
       "      <td>4</td>\n",
       "      <td>3.0</td>\n",
       "      <td>16.0</td>\n",
       "      <td>4.0</td>\n",
       "      <td>2</td>\n",
       "      <td>1</td>\n",
       "      <td>4</td>\n",
       "      <td>310000.0</td>\n",
       "    </tr>\n",
       "    <tr>\n",
       "      <th>3</th>\n",
       "      <td>1</td>\n",
       "      <td>90.0</td>\n",
       "      <td>3</td>\n",
       "      <td>3.0</td>\n",
       "      <td>16.0</td>\n",
       "      <td>3.0</td>\n",
       "      <td>2</td>\n",
       "      <td>0</td>\n",
       "      <td>4</td>\n",
       "      <td>160000.0</td>\n",
       "    </tr>\n",
       "    <tr>\n",
       "      <th>4</th>\n",
       "      <td>1</td>\n",
       "      <td>49.0</td>\n",
       "      <td>1</td>\n",
       "      <td>6.0</td>\n",
       "      <td>16.0</td>\n",
       "      <td>2.0</td>\n",
       "      <td>2</td>\n",
       "      <td>0</td>\n",
       "      <td>7</td>\n",
       "      <td>50000.0</td>\n",
       "    </tr>\n",
       "    <tr>\n",
       "      <th>...</th>\n",
       "      <td>...</td>\n",
       "      <td>...</td>\n",
       "      <td>...</td>\n",
       "      <td>...</td>\n",
       "      <td>...</td>\n",
       "      <td>...</td>\n",
       "      <td>...</td>\n",
       "      <td>...</td>\n",
       "      <td>...</td>\n",
       "      <td>...</td>\n",
       "    </tr>\n",
       "    <tr>\n",
       "      <th>59</th>\n",
       "      <td>0</td>\n",
       "      <td>87.0</td>\n",
       "      <td>4</td>\n",
       "      <td>1.0</td>\n",
       "      <td>5.0</td>\n",
       "      <td>3.0</td>\n",
       "      <td>1</td>\n",
       "      <td>1</td>\n",
       "      <td>3</td>\n",
       "      <td>103000.0</td>\n",
       "    </tr>\n",
       "    <tr>\n",
       "      <th>60</th>\n",
       "      <td>1</td>\n",
       "      <td>172.0</td>\n",
       "      <td>2</td>\n",
       "      <td>6.0</td>\n",
       "      <td>18.0</td>\n",
       "      <td>3.0</td>\n",
       "      <td>3</td>\n",
       "      <td>0</td>\n",
       "      <td>4</td>\n",
       "      <td>258000.0</td>\n",
       "    </tr>\n",
       "    <tr>\n",
       "      <th>61</th>\n",
       "      <td>1</td>\n",
       "      <td>158.0</td>\n",
       "      <td>0</td>\n",
       "      <td>8.0</td>\n",
       "      <td>16.0</td>\n",
       "      <td>3.0</td>\n",
       "      <td>2</td>\n",
       "      <td>1</td>\n",
       "      <td>4</td>\n",
       "      <td>240000.0</td>\n",
       "    </tr>\n",
       "    <tr>\n",
       "      <th>62</th>\n",
       "      <td>0</td>\n",
       "      <td>42.0</td>\n",
       "      <td>4</td>\n",
       "      <td>1.0</td>\n",
       "      <td>1.0</td>\n",
       "      <td>2.0</td>\n",
       "      <td>1</td>\n",
       "      <td>1</td>\n",
       "      <td>4</td>\n",
       "      <td>50000.0</td>\n",
       "    </tr>\n",
       "    <tr>\n",
       "      <th>63</th>\n",
       "      <td>1</td>\n",
       "      <td>124.0</td>\n",
       "      <td>1</td>\n",
       "      <td>1.0</td>\n",
       "      <td>12.0</td>\n",
       "      <td>3.0</td>\n",
       "      <td>2</td>\n",
       "      <td>0</td>\n",
       "      <td>7</td>\n",
       "      <td>160000.0</td>\n",
       "    </tr>\n",
       "  </tbody>\n",
       "</table>\n",
       "<p>62 rows × 10 columns</p>\n",
       "</div>"
      ],
      "text/plain": [
       "    BINA_NOVU  SAHESI  TEMIRI  MERTEBESI  BINA_MERTEBE_SAYI  OTAG_SAYI  \\\n",
       "0           1    93.0       1        3.0               14.0        3.0   \n",
       "1           1    98.0       4        3.0               16.0        3.0   \n",
       "2           1   180.0       4        3.0               16.0        4.0   \n",
       "3           1    90.0       3        3.0               16.0        3.0   \n",
       "4           1    49.0       1        6.0               16.0        2.0   \n",
       "..        ...     ...     ...        ...                ...        ...   \n",
       "59          0    87.0       4        1.0                5.0        3.0   \n",
       "60          1   172.0       2        6.0               18.0        3.0   \n",
       "61          1   158.0       0        8.0               16.0        3.0   \n",
       "62          0    42.0       4        1.0                1.0        2.0   \n",
       "63          1   124.0       1        1.0               12.0        3.0   \n",
       "\n",
       "    BINADA_GAZ  SENEDI  RAYON  QIYMETIAZN  \n",
       "0            2       1      4    210000.0  \n",
       "1            2       1      4    167000.0  \n",
       "2            2       1      4    310000.0  \n",
       "3            2       0      4    160000.0  \n",
       "4            2       0      7     50000.0  \n",
       "..         ...     ...    ...         ...  \n",
       "59           1       1      3    103000.0  \n",
       "60           3       0      4    258000.0  \n",
       "61           2       1      4    240000.0  \n",
       "62           1       1      4     50000.0  \n",
       "63           2       0      7    160000.0  \n",
       "\n",
       "[62 rows x 10 columns]"
      ]
     },
     "execution_count": 104,
     "metadata": {},
     "output_type": "execute_result"
    }
   ],
   "source": [
    "y = data[\"QIYMETIAZN\"]\n",
    "X = data.drop([\"QIYMETIAZN\"],axis=1)\n",
    "data"
   ]
  },
  {
   "cell_type": "code",
   "execution_count": 105,
   "id": "017932cd",
   "metadata": {},
   "outputs": [],
   "source": [
    "from sklearn.model_selection import train_test_split\n",
    "X_train, X_test, y_train, y_test = train_test_split(\n",
    " X.values, y.values, test_size=0.33, random_state=42)"
   ]
  },
  {
   "cell_type": "code",
   "execution_count": 106,
   "id": "41f34ea2",
   "metadata": {},
   "outputs": [
    {
     "name": "stdout",
     "output_type": "stream",
     "text": [
      "XGBRegressor(base_score=None, booster=None, colsample_bylevel=None,\n",
      "             colsample_bynode=None, colsample_bytree=None,\n",
      "             enable_categorical=False, gamma=None, gpu_id=None,\n",
      "             importance_type=None, interaction_constraints=None,\n",
      "             learning_rate=None, max_delta_step=None, max_depth=None,\n",
      "             min_child_weight=None, missing=nan, monotone_constraints=None,\n",
      "             n_estimators=100, n_jobs=None, num_parallel_tree=None,\n",
      "             predictor=None, random_state=None, reg_alpha=None, reg_lambda=None,\n",
      "             scale_pos_weight=None, subsample=None, tree_method=None,\n",
      "             validate_parameters=None, verbosity=None)\n"
     ]
    }
   ],
   "source": [
    "from xgboost import XGBRegressor\n",
    "from sklearn.model_selection import cross_val_score\n",
    "from sklearn.metrics import mean_squared_error\n",
    "import numpy as np\n",
    "\n",
    "xgb = XGBRegressor()\n",
    "print(xgb)\n",
    "\n",
    "model = xgb.fit(X_train,y_train)\n"
   ]
  },
  {
   "cell_type": "code",
   "execution_count": 107,
   "id": "84308777",
   "metadata": {},
   "outputs": [
    {
     "data": {
      "text/plain": [
       "0.8626509559240061"
      ]
     },
     "execution_count": 107,
     "metadata": {},
     "output_type": "execute_result"
    }
   ],
   "source": [
    "model.score(X_test,y_test)"
   ]
  },
  {
   "cell_type": "markdown",
   "id": "1453ea00",
   "metadata": {},
   "source": [
    "### Model Tuning"
   ]
  },
  {
   "cell_type": "code",
   "execution_count": 108,
   "id": "152d5b60",
   "metadata": {},
   "outputs": [
    {
     "name": "stdout",
     "output_type": "stream",
     "text": [
      "Mean cross-validation score:0.57 , for 4 index\n",
      "Mean cross-validation score:0.63 , for 5 index\n",
      "Mean cross-validation score:0.55 , for 6 index\n",
      "Mean cross-validation score:0.6 , for 7 index\n",
      "Mean cross-validation score:0.63 , for 8 index\n",
      "Mean cross-validation score:0.15 , for 9 index\n",
      "Mean cross-validation score:0.29 , for 10 index\n"
     ]
    }
   ],
   "source": [
    "index = [i for i in range(4,11)]\n",
    "\n",
    "for i in index:\n",
    "    scores = cross_val_score(xgb, X_train, y_train, cv=i)\n",
    "    print(f\"Mean cross-validation score:{round(scores.mean(),2)} , for {i} index\")\n",
    "    "
   ]
  },
  {
   "cell_type": "code",
   "execution_count": 109,
   "id": "d5871547",
   "metadata": {
    "scrolled": true
   },
   "outputs": [
    {
     "name": "stdout",
     "output_type": "stream",
     "text": [
      "Fitting 8 folds for each of 9 candidates, totalling 72 fits\n",
      "[17:15:59] WARNING: C:/Users/Administrator/workspace/xgboost-win64_release_1.5.1/src/learner.cc:576: \n",
      "Parameters: { \"silent\" } might not be used.\n",
      "\n",
      "  This could be a false alarm, with some parameters getting used by language bindings but\n",
      "  then being mistakenly passed down to XGBoost core, or some parameter actually being used\n",
      "  but getting flagged wrongly here. Please open an issue if you find any such cases.\n",
      "\n",
      "\n",
      "0.7322426101876854\n",
      "{'colsample_bytree': 0.7, 'learning_rate': 0.03, 'max_depth': 6, 'min_child_weight': 4, 'n_estimators': 500, 'nthread': 4, 'silent': 1, 'subsample': 0.7}\n"
     ]
    }
   ],
   "source": [
    "from sklearn.model_selection import GridSearchCV\n",
    "\n",
    "xgb1 = XGBRegressor()\n",
    "parameters = {'nthread':[4], #when use hyperthread, xgboost may become slower\n",
    "              'learning_rate': [.03, 0.05, .07], #so called `eta` value\n",
    "              'max_depth': [5, 6, 7],\n",
    "              'min_child_weight': [4],\n",
    "              'silent': [1],\n",
    "              'subsample': [0.7],\n",
    "              'colsample_bytree': [0.7],\n",
    "              'n_estimators': [500]}\n",
    "\n",
    "xgb_grid = GridSearchCV(xgb1,\n",
    "                        parameters,\n",
    "                        cv = 8,\n",
    "                        n_jobs = 5,\n",
    "                        verbose=True)\n",
    "\n",
    "xgb_grid.fit(X_train,y_train)\n",
    "\n",
    "print(xgb_grid.best_score_)\n",
    "print(xgb_grid.best_params_)\n"
   ]
  },
  {
   "cell_type": "markdown",
   "id": "b8a6d96e",
   "metadata": {},
   "source": [
    "### Best Model"
   ]
  },
  {
   "cell_type": "code",
   "execution_count": 62,
   "id": "6e12d914",
   "metadata": {},
   "outputs": [
    {
     "name": "stdout",
     "output_type": "stream",
     "text": [
      "[17:05:32] WARNING: C:/Users/Administrator/workspace/xgboost-win64_release_1.5.1/src/learner.cc:576: \n",
      "Parameters: { \"silent\" } might not be used.\n",
      "\n",
      "  This could be a false alarm, with some parameters getting used by language bindings but\n",
      "  then being mistakenly passed down to XGBoost core, or some parameter actually being used\n",
      "  but getting flagged wrongly here. Please open an issue if you find any such cases.\n",
      "\n",
      "\n"
     ]
    }
   ],
   "source": [
    "xgb_best = XGBRegressor(colsample_bytree = 0.7, learning_rate= 0.05, max_depth= 5, \n",
    "                         min_child_weight= 4, n_estimators= 500, \n",
    "                         nthread= 4, silent= 1, subsample= 0.7)\n",
    "\n",
    "xgb_best_model = xgb_best.fit(X_train,y_train)"
   ]
  },
  {
   "cell_type": "code",
   "execution_count": 111,
   "id": "8dd04b7a",
   "metadata": {},
   "outputs": [
    {
     "data": {
      "text/plain": [
       "0.873681232205283"
      ]
     },
     "execution_count": 111,
     "metadata": {},
     "output_type": "execute_result"
    }
   ],
   "source": [
    "xgb_best_model.score(X_test,y_test)"
   ]
  },
  {
   "cell_type": "code",
   "execution_count": 113,
   "id": "7efb5d60",
   "metadata": {},
   "outputs": [
    {
     "data": {
      "text/plain": [
       "array([79279.195], dtype=float32)"
      ]
     },
     "execution_count": 113,
     "metadata": {},
     "output_type": "execute_result"
    }
   ],
   "source": [
    "# xgb_best_model.predict(X_test[0:10])\n",
    "\n",
    "xgb_best_model.predict([[0,45,0,5,5,2,2,1,6]])\n"
   ]
  }
 ],
 "metadata": {
  "kernelspec": {
   "display_name": "Python 3 (ipykernel)",
   "language": "python",
   "name": "python3"
  },
  "language_info": {
   "codemirror_mode": {
    "name": "ipython",
    "version": 3
   },
   "file_extension": ".py",
   "mimetype": "text/x-python",
   "name": "python",
   "nbconvert_exporter": "python",
   "pygments_lexer": "ipython3",
   "version": "3.9.1"
  }
 },
 "nbformat": 4,
 "nbformat_minor": 5
}
